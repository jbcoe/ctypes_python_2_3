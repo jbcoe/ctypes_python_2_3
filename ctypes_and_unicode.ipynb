{
 "cells": [
  {
   "cell_type": "code",
   "execution_count": 1,
   "metadata": {
    "collapsed": false
   },
   "outputs": [
    {
     "name": "stdout",
     "output_type": "stream",
     "text": [
      "Writing t.cpp\n"
     ]
    }
   ],
   "source": [
    "%%file t.cpp\n",
    "extern \"C\" const char* echo(const char* t) { return t; } "
   ]
  },
  {
   "cell_type": "code",
   "execution_count": 26,
   "metadata": {
    "collapsed": false
   },
   "outputs": [
    {
     "name": "stdout",
     "output_type": "stream",
     "text": [
      "Overwriting t.py\n"
     ]
    }
   ],
   "source": [
    "%%file t.py\n",
    "from ctypes import *                                                                                                                                                                 \n",
    "c_object_p = POINTER(c_void_p)\n",
    "\n",
    "import sys \n",
    "if sys.version_info[0] == 3:  \n",
    "# Python 3 strings are unicode, translate them to/from utf8 for C-interop.\n",
    "    class c_interop_string(c_char_p):\n",
    "        def __init__(self, p=None):\n",
    "            if p is None:\n",
    "                p = \"\"\n",
    "            if type(p) == str:\n",
    "                p = p.encode(\"utf8\")\n",
    "            super(c_char_p, self).__init__(p)\n",
    "\n",
    "        @property\n",
    "        def value(self):\n",
    "            return super(c_char_p, self).value.decode(\"utf8\")\n",
    "\n",
    "        @classmethod\n",
    "        def from_param(cls, param):\n",
    "            return cls(param)\n",
    "\n",
    "    def _utf8_to_python_string(x, *args):\n",
    "        return x.decode(\"utf8\")\n",
    "\n",
    "elif sys.version_info[0] == 2:  \n",
    "# Python 2 strings are utf8 byte strings, no translation is needed for C-interop.\n",
    "    c_interop_string = c_char_p\n",
    "\n",
    "    def _utf8_to_python_string(x, *args):\n",
    "        return x\n",
    "\n",
    "else:\n",
    "    raise Exception(\"Only Python versions 2 and 3 are supported.\")\n",
    "\n",
    "\n",
    "def echo(s):\n",
    "    return lib.echo(s)\n",
    "\n",
    "lib = cdll.LoadLibrary(\"libt_c.dylib\")\n",
    "\n",
    "methodList = [ \n",
    "    (\"echo\",\n",
    "    [c_interop_string],\n",
    "    c_char_p,\n",
    "    _utf8_to_python_string)\n",
    "]\n",
    "\n",
    "def register_method(lib, item):\n",
    "    func = getattr(lib, item[0])\n",
    "\n",
    "    if len(item) >= 2:\n",
    "        func.argtypes = item[1]\n",
    "\n",
    "    if len(item) >= 3:\n",
    "        func.restype = item[2]\n",
    "\n",
    "    if len(item) >= 4:\n",
    "        func.errcheck = item[3]\n",
    "\n",
    "for m in methodList:\n",
    "    register_method(lib,m)"
   ]
  },
  {
   "cell_type": "code",
   "execution_count": 27,
   "metadata": {
    "collapsed": false
   },
   "outputs": [
    {
     "name": "stdout",
     "output_type": "stream",
     "text": [
      "Overwriting CMakeLists.txt\n"
     ]
    }
   ],
   "source": [
    "%%file CMakeLists.txt\n",
    "cmake_minimum_required(VERSION 3.0)\n",
    "set(CMAKE_CXX_STANDARD 14)\n",
    "add_library(t_c SHARED t.cpp)"
   ]
  },
  {
   "cell_type": "code",
   "execution_count": 28,
   "metadata": {
    "collapsed": false
   },
   "outputs": [
    {
     "name": "stdout",
     "output_type": "stream",
     "text": [
      "-- Configuring done\n",
      "-- Generating done\n",
      "-- Build files have been written to: /Users/jon/Google Drive/iPythonNotebooks\n",
      "[100%] Built target t_c\n"
     ]
    }
   ],
   "source": [
    "%%sh\n",
    "cmake .\n",
    "cmake --build ."
   ]
  },
  {
   "cell_type": "code",
   "execution_count": 29,
   "metadata": {
    "collapsed": false
   },
   "outputs": [],
   "source": [
    "%%script python2\n",
    "import t\n",
    "assert(t.echo('hello') + ' world' == 'hello world')"
   ]
  },
  {
   "cell_type": "code",
   "execution_count": 30,
   "metadata": {
    "collapsed": false
   },
   "outputs": [],
   "source": [
    "%%script python3\n",
    "import t\n",
    "assert(t.echo('hello') + ' world' == 'hello world')"
   ]
  }
 ],
 "metadata": {
  "kernelspec": {
   "display_name": "Python 2",
   "language": "python",
   "name": "python2"
  },
  "language_info": {
   "codemirror_mode": {
    "name": "ipython",
    "version": 2
   },
   "file_extension": ".py",
   "mimetype": "text/x-python",
   "name": "python",
   "nbconvert_exporter": "python",
   "pygments_lexer": "ipython2",
   "version": "2.7.13"
  }
 },
 "nbformat": 4,
 "nbformat_minor": 2
}
